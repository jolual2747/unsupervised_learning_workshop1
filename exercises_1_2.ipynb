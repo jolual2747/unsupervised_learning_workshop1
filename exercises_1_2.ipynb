{
 "cells": [
  {
   "attachments": {},
   "cell_type": "markdown",
   "metadata": {},
   "source": [
    "### **1. Simulate any random rectangular matrix A**"
   ]
  },
  {
   "cell_type": "code",
   "execution_count": 1,
   "metadata": {},
   "outputs": [
    {
     "data": {
      "text/plain": [
       "matrix([[1, 1, 4, 1],\n",
       "        [1, 3, 1, 3],\n",
       "        [3, 1, 1, 1],\n",
       "        [4, 3, 1, 4]])"
      ]
     },
     "metadata": {},
     "output_type": "display_data"
    }
   ],
   "source": [
    "import numpy as np\n",
    "\n",
    "mat = np.matrix(np.random.randint(low = 1, high=5, size = (4,4)))\n",
    "display(mat)"
   ]
  },
  {
   "attachments": {},
   "cell_type": "markdown",
   "metadata": {},
   "source": [
    "- What is the rank and trace of A?\n"
   ]
  },
  {
   "cell_type": "code",
   "execution_count": 2,
   "metadata": {},
   "outputs": [
    {
     "name": "stdout",
     "output_type": "stream",
     "text": [
      "The rank of the matrix is 4 and it's the maximum number of rows or columns linearly independent\n"
     ]
    }
   ],
   "source": [
    "print(f\"The rank of the matrix is {np.linalg.matrix_rank(mat)} and it's the maximum number of rows or columns linearly independent\")"
   ]
  },
  {
   "attachments": {},
   "cell_type": "markdown",
   "metadata": {},
   "source": [
    "- What is the determinant of A?"
   ]
  },
  {
   "cell_type": "code",
   "execution_count": 3,
   "metadata": {},
   "outputs": [
    {
     "name": "stdout",
     "output_type": "stream",
     "text": [
      "The determinat of the matrix is -28.0\n"
     ]
    }
   ],
   "source": [
    "print(f\"The determinat of the matrix is {np.linalg.det(mat) :.1f}\")"
   ]
  },
  {
   "attachments": {},
   "cell_type": "markdown",
   "metadata": {},
   "source": [
    "- Can you invert A? How?\n",
    "\n",
    "We can use np.linalg.inv to math it. If the determinat is different to zero, we can find the inverse matrix"
   ]
  },
  {
   "cell_type": "code",
   "execution_count": 4,
   "metadata": {},
   "outputs": [
    {
     "name": "stdout",
     "output_type": "stream",
     "text": [
      "The inverse matrix is:\n"
     ]
    },
    {
     "data": {
      "text/plain": [
       "matrix([[-7.14285714e-02, -1.07142857e-01,  3.92857143e-01,\n",
       "          1.11022302e-16],\n",
       "        [-2.85714286e-01,  1.07142857e+00,  1.07142857e+00,\n",
       "         -1.00000000e+00],\n",
       "        [ 2.85714286e-01, -7.14285714e-02, -7.14285714e-02,\n",
       "          2.27091073e-17],\n",
       "        [ 2.14285714e-01, -6.78571429e-01, -1.17857143e+00,\n",
       "          1.00000000e+00]])"
      ]
     },
     "metadata": {},
     "output_type": "display_data"
    }
   ],
   "source": [
    "if np.linalg.det(mat) != 0:\n",
    "    print('The inverse matrix is:')\n",
    "    display(np.linalg.inv(mat))\n",
    "else:\n",
    "    print(f\"The inverse of the matrix doesn't exist, det(matrix) must be <> 0\")\n"
   ]
  },
  {
   "attachments": {},
   "cell_type": "markdown",
   "metadata": {},
   "source": [
    "- How are eigenvalues and eigenvectors of A’A and AA’ related? What interesting differences can you notice between both?"
   ]
  },
  {
   "attachments": {},
   "cell_type": "markdown",
   "metadata": {},
   "source": [
    "Eigenvalues"
   ]
  },
  {
   "cell_type": "code",
   "execution_count": 5,
   "metadata": {},
   "outputs": [
    {
     "name": "stdout",
     "output_type": "stream",
     "text": [
      "eigenvalues of A'A:\n"
     ]
    },
    {
     "data": {
      "text/plain": [
       "array([75.53360026, 11.80694932,  5.49960254,  0.15984788])"
      ]
     },
     "metadata": {},
     "output_type": "display_data"
    },
    {
     "name": "stdout",
     "output_type": "stream",
     "text": [
      "eigenvalues of AA':\n"
     ]
    },
    {
     "data": {
      "text/plain": [
       "array([75.53360026, 11.80694932,  0.15984788,  5.49960254])"
      ]
     },
     "metadata": {},
     "output_type": "display_data"
    }
   ],
   "source": [
    "print(\"eigenvalues of A'A:\")\n",
    "display(np.linalg.eig(np.dot(mat.T, mat))[0])\n",
    "print(\"eigenvalues of AA':\")\n",
    "display(np.linalg.eig(np.dot(mat, mat.T))[0])"
   ]
  },
  {
   "attachments": {},
   "cell_type": "markdown",
   "metadata": {},
   "source": [
    "Note that eigenvalues are the same"
   ]
  },
  {
   "attachments": {},
   "cell_type": "markdown",
   "metadata": {},
   "source": [
    "Eigenvectors"
   ]
  },
  {
   "cell_type": "code",
   "execution_count": 6,
   "metadata": {},
   "outputs": [
    {
     "name": "stdout",
     "output_type": "stream",
     "text": [
      "eigenvectors of A'A\n"
     ]
    },
    {
     "data": {
      "text/plain": [
       "matrix([[ 0.55206249,  0.17543832, -0.81073646, -0.08458604],\n",
       "        [ 0.49569682,  0.14878957,  0.44592753, -0.73027047],\n",
       "        [ 0.3366986 , -0.94007653,  0.02066674,  0.04962916],\n",
       "        [ 0.57978075,  0.25167275,  0.37871879,  0.67608223]])"
      ]
     },
     "metadata": {},
     "output_type": "display_data"
    },
    {
     "name": "stdout",
     "output_type": "stream",
     "text": [
      "eigenvectors of AA'\n"
     ]
    },
    {
     "data": {
      "text/plain": [
       "matrix([[ 0.34223129,  0.92674343,  0.14942695, -0.04118198],\n",
       "        [ 0.47350024, -0.12710505, -0.49403893, -0.7180302 ],\n",
       "        [ 0.35305042,  0.00387042, -0.64610024,  0.67667931],\n",
       "        [ 0.73077402, -0.35351937,  0.5622736 ,  0.15761277]])"
      ]
     },
     "metadata": {},
     "output_type": "display_data"
    }
   ],
   "source": [
    "print(\"eigenvectors of A'A\")\n",
    "display(np.linalg.eig(np.dot(mat.T, mat))[1])\n",
    "print(\"eigenvectors of AA'\")\n",
    "display(np.linalg.eig(np.dot(mat, mat.T))[1])"
   ]
  },
  {
   "attachments": {},
   "cell_type": "markdown",
   "metadata": {},
   "source": [
    "Eigenvectors are diferent"
   ]
  },
  {
   "attachments": {},
   "cell_type": "markdown",
   "metadata": {},
   "source": [
    "### **2. Add a steady, well-centered picture of your face to a shared folder alongside your classmates**"
   ]
  }
 ],
 "metadata": {
  "kernelspec": {
   "display_name": "unsupervised_learning_workshop1-nS9Eu1sj",
   "language": "python",
   "name": "python3"
  },
  "language_info": {
   "codemirror_mode": {
    "name": "ipython",
    "version": 3
   },
   "file_extension": ".py",
   "mimetype": "text/x-python",
   "name": "python",
   "nbconvert_exporter": "python",
   "pygments_lexer": "ipython3",
   "version": "3.8.10"
  },
  "orig_nbformat": 4
 },
 "nbformat": 4,
 "nbformat_minor": 2
}
